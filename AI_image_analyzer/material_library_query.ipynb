{
 "cells": [
  {
   "cell_type": "code",
   "execution_count": 2,
   "metadata": {},
   "outputs": [
    {
     "name": "stderr",
     "output_type": "stream",
     "text": [
      "c:\\Users\\josie\\Documents\\dallESpeckleMap\\.venv\\Lib\\site-packages\\tqdm\\auto.py:21: TqdmWarning: IProgress not found. Please update jupyter and ipywidgets. See https://ipywidgets.readthedocs.io/en/stable/user_install.html\n",
      "  from .autonotebook import tqdm as notebook_tqdm\n"
     ]
    }
   ],
   "source": [
    "import requests\n",
    "import time\n",
    "from transformers import AutoImageProcessor, AutoModel, AutoFeatureExtractor\n",
    "from datasets import load_dataset\n",
    "import torch\n",
    "import tqdm\n",
    "import numpy as np\n",
    "from PIL import Image "
   ]
  },
  {
   "cell_type": "code",
   "execution_count": 3,
   "metadata": {},
   "outputs": [],
   "source": [
    "root_directory = \"C:/Users/josie/OneDrive - Chalmers/Documents/Speckle hackathon/data/gold/\""
   ]
  },
  {
   "cell_type": "code",
   "execution_count": 4,
   "metadata": {},
   "outputs": [],
   "source": [
    "## Download all thumbnails from Poly Haven texture asset library\n",
    "\n",
    "url = \"https://api.polyhaven.com/assets?t=textures\"\n",
    "headers = {\n",
    "    \"Content-type\": \"application/json\"\n",
    "}\n",
    "\n",
    "response = requests.get(url, headers=headers)\n",
    "\n",
    "all_textures = response.json()\n",
    "\n",
    "for each_texture in list(all_textures):\n",
    "    image_url = all_textures[each_texture]['thumbnail_url']\n",
    "    image_filename = root_directory + each_texture + \".png\"\n",
    "    response = requests.get(image_url)\n",
    "    if response.status_code == 200:\n",
    "        # Write the image content to the file\n",
    "        with open(image_filename, 'wb') as f:\n",
    "            f.write(response.content)\n",
    "    time.sleep(1)"
   ]
  },
  {
   "cell_type": "code",
   "execution_count": null,
   "metadata": {},
   "outputs": [],
   "source": []
  }
 ],
 "metadata": {
  "kernelspec": {
   "display_name": ".venv",
   "language": "python",
   "name": "python3"
  },
  "language_info": {
   "codemirror_mode": {
    "name": "ipython",
    "version": 3
   },
   "file_extension": ".py",
   "mimetype": "text/x-python",
   "name": "python",
   "nbconvert_exporter": "python",
   "pygments_lexer": "ipython3",
   "version": "3.11.5"
  }
 },
 "nbformat": 4,
 "nbformat_minor": 2
}
